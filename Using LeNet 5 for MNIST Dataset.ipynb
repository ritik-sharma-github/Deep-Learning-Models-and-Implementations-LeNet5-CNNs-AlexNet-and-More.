{
 "cells": [
  {
   "cell_type": "code",
   "execution_count": 1,
   "id": "a59144ea",
   "metadata": {},
   "outputs": [],
   "source": [
    "# Using LeNet 5 for MNIST Dataset"
   ]
  },
  {
   "cell_type": "code",
   "execution_count": 2,
   "id": "31aeace6",
   "metadata": {},
   "outputs": [],
   "source": [
    "import numpy as np\n",
    "import matplotlib.pyplot as plt\n",
    "import tensorflow as tf\n",
    "from tensorflow.keras import Sequential\n",
    "from tensorflow.keras.layers import Conv2D, AveragePooling2D, Flatten, Dense\n",
    "from tensorflow.keras.losses import CategoricalCrossentropy"
   ]
  },
  {
   "cell_type": "code",
   "execution_count": 3,
   "id": "ad2f928d",
   "metadata": {},
   "outputs": [],
   "source": [
    "(X_train, y_train), (X_test, y_test)=tf.keras.datasets.mnist.load_data()\n",
    "X_val, y_val = X_train[55000:, ...,np.newaxis],y_train[55000:]\n",
    "X_train,y_train=X_train[:55000,...,np.newaxis],y_train[:55000]\n",
    "X_test=X_test[...,np.newaxis]"
   ]
  },
  {
   "cell_type": "code",
   "execution_count": 4,
   "id": "8ff4b775",
   "metadata": {},
   "outputs": [
    {
     "name": "stdout",
     "output_type": "stream",
     "text": [
      "Image Shape: (28, 28, 1)\n",
      "\n",
      "Training Set:   55000 samples\n",
      "Validation Set:   5000 samples\n",
      "Test Set:       10000 samples\n"
     ]
    }
   ],
   "source": [
    "print(\"Image Shape: {}\".format(X_train[0].shape), end = '\\n\\n')\n",
    "print(\"Training Set:   {} samples\".format(len(X_train)))\n",
    "print(\"Validation Set:   {} samples\".format(len(X_val)))\n",
    "print(\"Test Set:       {} samples\".format(len(X_test)))"
   ]
  },
  {
   "cell_type": "code",
   "execution_count": 5,
   "id": "dd0a245d",
   "metadata": {},
   "outputs": [],
   "source": [
    "X_train = np.pad(X_train, ((0,0),(2,2),(2,2),(0,0)), 'constant')\n",
    "X_val = np.pad(X_val, ((0,0),(2,2),(2,2),(0,0)), 'constant')\n",
    "X_test = np.pad(X_test, ((0,0),(2,2),(2,2),(0,0)), 'constant')"
   ]
  },
  {
   "cell_type": "code",
   "execution_count": 6,
   "id": "dc84e997",
   "metadata": {},
   "outputs": [
    {
     "name": "stdout",
     "output_type": "stream",
     "text": [
      "Updated Image Shape for: \n",
      "\n",
      "-Training set: (55000, 32, 32, 1)\n",
      "-Validation set: (5000, 32, 32, 1)\n",
      "-Test set: (10000, 32, 32, 1)\n"
     ]
    }
   ],
   "source": [
    "print(\"Updated Image Shape for: \", end='\\n\\n')\n",
    "print(\"-Training set: {}\".format(X_train.shape))\n",
    "print(\"-Validation set: {}\".format(X_val.shape))\n",
    "print(\"-Test set: {}\".format(X_test.shape))"
   ]
  },
  {
   "cell_type": "code",
   "execution_count": 7,
   "id": "9d5ff216",
   "metadata": {},
   "outputs": [],
   "source": [
    "# Normalization\n",
    "\n",
    "X_train, X_val, X_test = X_train/float(255), X_val/float(255), X_test/float(255)\n",
    "X_train -= np.mean(X_train)\n",
    "X_val -= np.mean(X_val)\n",
    "X_test -= np.mean(X_test)"
   ]
  },
  {
   "cell_type": "code",
   "execution_count": 8,
   "id": "611dcee8",
   "metadata": {},
   "outputs": [
    {
     "name": "stderr",
     "output_type": "stream",
     "text": [
      "C:\\Users\\sharm\\anaconda3\\Lib\\site-packages\\keras\\src\\layers\\convolutional\\base_conv.py:107: UserWarning: Do not pass an `input_shape`/`input_dim` argument to a layer. When using Sequential models, prefer using an `Input(shape)` object as the first layer in the model instead.\n",
      "  super().__init__(activity_regularizer=activity_regularizer, **kwargs)\n"
     ]
    }
   ],
   "source": [
    "# Def LeNet_5():\n",
    "model=Sequential()\n",
    "\n",
    "# C1: (None,32,32,1) -> (None,28,28,6).\n",
    "model.add(Conv2D(6,kernel_size=(5,5),strides=(1,1),activation='tanh',input_shape=(32,32,1),padding='valid'))\n",
    "\n",
    "# P1: (None,28,28,6) -> (None,14,14,6)\n",
    "model.add(AveragePooling2D(pool_size=(2,2),strides=(2,2),padding='valid'))"
   ]
  },
  {
   "cell_type": "code",
   "execution_count": 9,
   "id": "c76e8a65",
   "metadata": {},
   "outputs": [],
   "source": [
    "# C2: (None,14,14,6) -> (None,10,10,16).\n",
    "model.add(Conv2D(16, kernel_size=(5, 5), strides=(1, 1), activation='tanh', padding='valid'))\n",
    "\n",
    "# P2: (None,10,10,16) -> (None,5,5,16).\n",
    "model.add(AveragePooling2D(pool_size=(2, 2), strides=(2, 2), padding='valid'))"
   ]
  },
  {
   "cell_type": "code",
   "execution_count": 10,
   "id": "94a4f05b",
   "metadata": {},
   "outputs": [],
   "source": [
    "# Flatten: (None,5,5,16) -> (None, 400).\n",
    "model.add(Flatten())"
   ]
  },
  {
   "cell_type": "code",
   "execution_count": 11,
   "id": "b887e437",
   "metadata": {},
   "outputs": [],
   "source": [
    "# FC1: (None, 400) -> (None,120).\n",
    "model.add(Dense(120, activation='tanh'))"
   ]
  },
  {
   "cell_type": "code",
   "execution_count": 12,
   "id": "6591dbef",
   "metadata": {},
   "outputs": [],
   "source": [
    "# FC1: (None, 120) -> (None,84).\n",
    "model.add(Dense(84, activation='tanh'))"
   ]
  },
  {
   "cell_type": "code",
   "execution_count": 13,
   "id": "39870e04",
   "metadata": {},
   "outputs": [],
   "source": [
    "# FC1: (None, 84) -> (None,10).\n",
    "model.add(Dense(10, activation='softmax'))"
   ]
  },
  {
   "cell_type": "code",
   "execution_count": 14,
   "id": "853b9bdb",
   "metadata": {},
   "outputs": [],
   "source": [
    "# Compile the model\n",
    "model.compile(loss='sparse_categorical_crossentropy', optimizer='sgd', metrics=['accuracy']) "
   ]
  },
  {
   "cell_type": "code",
   "execution_count": 15,
   "id": "6f275a59",
   "metadata": {},
   "outputs": [
    {
     "name": "stdout",
     "output_type": "stream",
     "text": [
      "Epoch 1/5\n",
      "\u001b[1m1719/1719\u001b[0m \u001b[32m━━━━━━━━━━━━━━━━━━━━\u001b[0m\u001b[37m\u001b[0m \u001b[1m17s\u001b[0m 9ms/step - accuracy: 0.7092 - loss: 1.0647 - val_accuracy: 0.9334 - val_loss: 0.2508\n",
      "Epoch 2/5\n",
      "\u001b[1m1719/1719\u001b[0m \u001b[32m━━━━━━━━━━━━━━━━━━━━\u001b[0m\u001b[37m\u001b[0m \u001b[1m15s\u001b[0m 9ms/step - accuracy: 0.9110 - loss: 0.3030 - val_accuracy: 0.9488 - val_loss: 0.1804\n",
      "Epoch 3/5\n",
      "\u001b[1m1719/1719\u001b[0m \u001b[32m━━━━━━━━━━━━━━━━━━━━\u001b[0m\u001b[37m\u001b[0m \u001b[1m15s\u001b[0m 9ms/step - accuracy: 0.9337 - loss: 0.2240 - val_accuracy: 0.9620 - val_loss: 0.1418\n",
      "Epoch 4/5\n",
      "\u001b[1m1719/1719\u001b[0m \u001b[32m━━━━━━━━━━━━━━━━━━━━\u001b[0m\u001b[37m\u001b[0m \u001b[1m15s\u001b[0m 9ms/step - accuracy: 0.9466 - loss: 0.1773 - val_accuracy: 0.9668 - val_loss: 0.1178\n",
      "Epoch 5/5\n",
      "\u001b[1m1719/1719\u001b[0m \u001b[32m━━━━━━━━━━━━━━━━━━━━\u001b[0m\u001b[37m\u001b[0m \u001b[1m15s\u001b[0m 9ms/step - accuracy: 0.9585 - loss: 0.1409 - val_accuracy: 0.9702 - val_loss: 0.1023\n"
     ]
    }
   ],
   "source": [
    "history=model.fit(X_train,y_train,validation_data=(X_val,y_val),epochs=5)"
   ]
  },
  {
   "cell_type": "code",
   "execution_count": 16,
   "id": "1dd2eab6",
   "metadata": {},
   "outputs": [
    {
     "name": "stdout",
     "output_type": "stream",
     "text": [
      "\u001b[1m313/313\u001b[0m \u001b[32m━━━━━━━━━━━━━━━━━━━━\u001b[0m\u001b[37m\u001b[0m \u001b[1m2s\u001b[0m 6ms/step\n"
     ]
    }
   ],
   "source": [
    "# Make prediction.\n",
    "predictions = model.predict(X_test)"
   ]
  },
  {
   "cell_type": "code",
   "execution_count": 17,
   "id": "5668c8e5",
   "metadata": {},
   "outputs": [],
   "source": [
    "# Retrieve predictions indexes.\n",
    "y_pred = np.argmax(predictions, axis=1)"
   ]
  },
  {
   "cell_type": "code",
   "execution_count": 18,
   "id": "f7e92844",
   "metadata": {},
   "outputs": [
    {
     "name": "stdout",
     "output_type": "stream",
     "text": [
      "Test set error rate: 0.0332\n"
     ]
    }
   ],
   "source": [
    "# Print test set accuracy.\n",
    "print('Test set error rate: {}'.format(np.mean(y_pred != y_test)))"
   ]
  },
  {
   "cell_type": "code",
   "execution_count": 20,
   "id": "229781b3",
   "metadata": {},
   "outputs": [
    {
     "name": "stdout",
     "output_type": "stream",
     "text": [
      "\n",
      "Plot of training error over 5 epochs:\n"
     ]
    },
    {
     "data": {
      "image/png": "[encoded data removed]",
      "text/plain": [
       "<Figure size 640x480 with 1 Axes>"
      ]
     },
     "metadata": {},
     "output_type": "display_data"
    }
   ],
   "source": [
    "# Plot training error.\n",
    "print('\\nPlot of training error over 5 epochs:')\n",
    "plt.title('Training error')\n",
    "plt.ylabel('Cost')\n",
    "plt.xlabel('epoch')\n",
    "plt.plot(history.history['loss'])\n",
    "plt.plot(history.history['val_loss'])\n",
    "plt.legend(['train loss', 'val loss'], loc='upper right')\n",
    "plt.show()"
   ]
  },
  {
   "cell_type": "code",
   "execution_count": null,
   "id": "aecb2bb7",
   "metadata": {},
   "outputs": [],
   "source": []
  }
 ],
 "metadata": {
  "kernelspec": {
   "display_name": "Python 3 (ipykernel)",
   "language": "python",
   "name": "python3"
  },
  "language_info": {
   "codemirror_mode": {
    "name": "ipython",
    "version": 3
   },
   "file_extension": ".py",
   "mimetype": "text/x-python",
   "name": "python",
   "nbconvert_exporter": "python",
   "pygments_lexer": "ipython3",
   "version": "3.11.4"
  }
 },
 "nbformat": 4,
 "nbformat_minor": 5
}
